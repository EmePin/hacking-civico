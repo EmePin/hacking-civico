{
  "nbformat": 4,
  "nbformat_minor": 0,
  "metadata": {
    "colab": {
      "name": "tareas/02-python-101.ipynb",
      "provenance": [],
      "collapsed_sections": [],
      "authorship_tag": "ABX9TyP7PQrhJtN6Hp0zxytByt0w",
      "include_colab_link": true
    },
    "kernelspec": {
      "name": "python3",
      "display_name": "Python 3"
    }
  },
  "cells": [
    {
      "cell_type": "markdown",
      "metadata": {
        "id": "view-in-github",
        "colab_type": "text"
      },
      "source": [
        "<a href=\"https://colab.research.google.com/github/EmePin/hacking-civico/blob/master/tareas_02_python_101.ipynb\" target=\"_parent\"><img src=\"https://colab.research.google.com/assets/colab-badge.svg\" alt=\"Open In Colab\"/></a>"
      ]
    },
    {
      "cell_type": "markdown",
      "metadata": {
        "id": "K6RYjj9-jfAQ",
        "colab_type": "text"
      },
      "source": [
        " **Calcula la densidad poblacional y encuentra relaciones con el gasto público\n",
        "🏙️**\n",
        "\n",
        "\n",
        "---\n",
        "\n",
        "\n",
        "\n",
        "\n",
        "☝️ Primero:\n",
        " Investiga el número de habitantes que hay en tu ciudad, estado y país, así como la superficie (en km²) de los mismos.\n",
        " Escribe una función llamada densidad_poblacional que tome dos argumentos, poblacion y area_ciudad.\n",
        " Haz que la función devuelva una densidad de población calculada a partir de esos valores (investiga la fórmula).\n",
        " Prueba esta función con los 3 casos diferentes: país, tu estado y tu ciudad.\n",
        " \n",
        " Responde lo siguiente:\n",
        "\n",
        "¿Cuál es la densidad poblacional?\n",
        "\n",
        "La densidad poblacional de Oaxaca de Juárez es:  1212.1605504587155 hab/km^2\n",
        "La densidad poblacional de Oaxaca es:  42.233150970708444 hab/km^2\n",
        "La densidad poblacional de México es:  60.597071303642494 hab/km^2\n",
        "\n",
        "¿Qué pasa al comparar varios estados o ciudades?\n",
        "se puede ver en qué lugares se concentra un mayor número de personas o en cuáles menos y ver el tamaño de éste."
      ]
    },
    {
      "cell_type": "markdown",
      "metadata": {
        "id": "-o879Tjbu2Fv",
        "colab_type": "text"
      },
      "source": [
        "\n",
        "\n",
        "1.   Número de habitantes en Oaxaca de Juárez= 264 251\n",
        "\n",
        "1.   Número de habitantes en Oaxaca= 3 967 889\n",
        "\n",
        "1.   Número de habitantes en México=119 530 753\n",
        "2.   Superficie de Oaxaca de Juárez= 218 km²\n",
        "2.   Superficie de Oaxaca= 93,952 km²\n",
        "2.   Superficie de México= 1 972 550 km²\n",
        "\n",
        "\n",
        "\n",
        "\n",
        "\n",
        "\n",
        "\n",
        "\n",
        "\n",
        "\n",
        "\n",
        "\n",
        "\n",
        "\n",
        "\n",
        "\n",
        "\n",
        "\n",
        "\n",
        "\n",
        "\n",
        "\n",
        "\n",
        "\n",
        "\n",
        "\n",
        "\n",
        "\n",
        "\n",
        "\n",
        "\n",
        "\n"
      ]
    },
    {
      "cell_type": "code",
      "metadata": {
        "id": "ONk_17LDOoDq",
        "colab_type": "code",
        "colab": {
          "base_uri": "https://localhost:8080/",
          "height": 68
        },
        "outputId": "67bdc645-a6e5-4a2d-ee40-41064f18e2d2"
      },
      "source": [
        "def densidad_poblacional(poblacion, area_ciudad):\n",
        "  densidad_poblacional = poblacion / area_ciudad\n",
        "  return densidad_poblacional\n",
        " \n",
        "No_hab_OaxacaJuarez= 264251\n",
        "\n",
        "No_hab_Oaxaca=3967889\n",
        "\n",
        "No_hab_Mex=119530753\n",
        "\n",
        "Sup_OaxacaJuarez=218 \n",
        "\n",
        "Sup_Oaxaca=93952 \n",
        "\n",
        "Sup_Mex= 1972550\n",
        "\n",
        "print(\"La densidad poblacional de Oaxaca de Juárez es: \", densidad_poblacional(No_hab_OaxacaJuarez,Sup_OaxacaJuarez),\"hab/km^2\")\n",
        "print(\"La densidad poblacional de Oaxaca es: \", densidad_poblacional(No_hab_Oaxaca,Sup_Oaxaca),\"hab/km^2\")\n",
        "print(\"La densidad poblacional de México es: \",densidad_poblacional(No_hab_Mex,Sup_Mex),\"hab/km^2\")"
      ],
      "execution_count": null,
      "outputs": [
        {
          "output_type": "stream",
          "text": [
            "La densidad poblacional de Oaxaca de Juárez es:  1212.1605504587155 hab/km^2\n",
            "La densidad poblacional de Oaxaca es:  42.233150970708444 hab/km^2\n",
            "La densidad poblacional de México es:  60.597071303642494 hab/km^2\n"
          ],
          "name": "stdout"
        }
      ]
    },
    {
      "cell_type": "markdown",
      "metadata": {
        "id": "WKLCwZPyjaH-",
        "colab_type": "text"
      },
      "source": [
        "☝️ Segundo:\n",
        "\n",
        "Utiliza la información que encontraste sobre el gasto público del sector de tu interés y de acuerdo a la población correspondiente calcula el gasto per cápita del último año y uno anterior.\n",
        "\n",
        "El gasto per capita en Instituciones Públicas de Seguridad Social del Estado de Oaxaca fue de 156,939,188.82 en 2019 y 165,749,361.89 en 2018."
      ]
    },
    {
      "cell_type": "code",
      "metadata": {
        "id": "LYHumr2sjcPD",
        "colab_type": "code",
        "colab": {
          "base_uri": "https://localhost:8080/",
          "height": 68
        },
        "outputId": "8449c3ef-cd5e-402f-f70a-a46f5b3c10d2"
      },
      "source": [
        "def gasto_per_capita(gastoTotal, poblacion):\n",
        "  gasto_per_capita = gastoTotal / poblacion\n",
        "  return gasto_per_capita\n",
        "\n",
        "gasto_per_capita_2018 = gasto_per_capita ( 165749361.89 , 3967889)\n",
        "print(gasto_per_capita_2018)\n",
        "\n",
        "gasto_per_capita_2019 = gasto_per_capita (156939188.82, 3967889)\n",
        "print(gasto_per_capita_2019)\n",
        "\n",
        "cambio= gasto_per_capita_2019 - gasto_per_capita_2018\n",
        "print ((cambio/ gasto_per_capita_2018)*100)"
      ],
      "execution_count": 8,
      "outputs": [
        {
          "output_type": "stream",
          "text": [
            "41.77268111330735\n",
            "39.55231328799772\n",
            "-5.315358665360593\n"
          ],
          "name": "stdout"
        }
      ]
    },
    {
      "cell_type": "markdown",
      "metadata": {
        "id": "0zQ0EISfkVPr",
        "colab_type": "text"
      },
      "source": [
        "\n",
        "¿En qué porcentaje aumentó o disminuyó?\n",
        "¿A qué crees que se deba?\n",
        "decreció un 5% y tal vez debido a que se destinó a otros proyectos o deudas.\n",
        "\n",
        "☝️ Tercero:\n",
        "\n",
        "¿Para qué crees que nos pueda ser útil esta información?\n",
        "para llevar un control de dónde se gastan los ingresos y así comparar y analizar los frutos de los mismos.\n",
        "\n",
        "¿Qué decisiones podría tomar el gobierno basado en ésta?\n",
        "junto a otros factores considero que para saber en qué invertir es decir hacia dónde destinar presupuesto de gasto público."
      ]
    }
  ]
}